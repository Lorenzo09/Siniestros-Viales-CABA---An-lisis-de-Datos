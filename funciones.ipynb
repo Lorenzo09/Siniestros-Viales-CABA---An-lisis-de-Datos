{
 "cells": [
  {
   "cell_type": "code",
   "execution_count": 2,
   "metadata": {},
   "outputs": [],
   "source": [
    "import pandas as pd\n",
    "import numpy as np\n",
    "import matplotlib.pyplot as plt\n",
    "import seaborn as sns"
   ]
  },
  {
   "cell_type": "code",
   "execution_count": 3,
   "metadata": {},
   "outputs": [],
   "source": [
    "def verificar_tipo_datos(df):\n",
    "    '''\n",
    "    Realiza un análisis de los tipos de datos y la presencia de valores nulos en un DataFrame.\n",
    "\n",
    "    Esta función toma un DataFrame como entrada y devuelve un resumen que incluye información sobre\n",
    "    los tipos de datos en cada columna, el porcentaje de valores no nulos y nulos, así como la\n",
    "    cantidad de valores nulos por columna.\n",
    "\n",
    "    Parameters:\n",
    "        df (pandas.DataFrame): El DataFrame que se va a analizar.\n",
    "\n",
    "    Returns:\n",
    "        pandas.DataFrame: Un DataFrame que contiene el resumen de cada columna, incluyendo:\n",
    "        - 'nombre_campo': Nombre de cada columna.\n",
    "        - 'tipo_datos': Tipos de datos únicos presentes en cada columna.\n",
    "        - 'no_nulos_%': Porcentaje de valores no nulos en cada columna.\n",
    "        - 'nulos_%': Porcentaje de valores nulos en cada columna.\n",
    "        - 'nulos': Cantidad de valores nulos en cada columna.\n",
    "    '''\n",
    "\n",
    "    mi_dict = {\"nombre_campo\": [], \"tipo_datos\": [], \"no_nulos_%\": [], \"nulos_%\": [], \"nulos\": []}\n",
    "\n",
    "    for columna in df.columns:\n",
    "        porcentaje_no_nulos = (df[columna].count() / len(df)) * 100\n",
    "        mi_dict[\"nombre_campo\"].append(columna)\n",
    "        mi_dict[\"tipo_datos\"].append(df[columna].apply(type).unique())\n",
    "        mi_dict[\"no_nulos_%\"].append(round(porcentaje_no_nulos, 2))\n",
    "        mi_dict[\"nulos_%\"].append(round(100-porcentaje_no_nulos, 2))\n",
    "        mi_dict[\"nulos\"].append(df[columna].isnull().sum())\n",
    "\n",
    "    df_info = pd.DataFrame(mi_dict)\n",
    "        \n",
    "    return df_info"
   ]
  },
  {
   "cell_type": "code",
   "execution_count": 4,
   "metadata": {},
   "outputs": [],
   "source": [
    "def verifica_duplicados_por_columna(df, columna):\n",
    "    '''\n",
    "    Verifica y muestra filas duplicadas en un DataFrame basado en una columna específica.\n",
    "\n",
    "    Esta función toma como entrada un DataFrame y el nombre de una columna específica.\n",
    "    Luego, identifica las filas duplicadas basadas en el contenido de la columna especificada,\n",
    "    las filtra y las ordena para una comparación más sencilla.\n",
    "\n",
    "    Parameters:\n",
    "        df (pandas.DataFrame): El DataFrame en el que se buscarán filas duplicadas.\n",
    "        columna (str): El nombre de la columna basada en la cual se verificarán las duplicaciones.\n",
    "\n",
    "    Returns:\n",
    "        pandas.DataFrame or str: Un DataFrame que contiene las filas duplicadas filtradas y ordenadas,\n",
    "        listas para su inspección y comparación, o el mensaje \"No hay duplicados\" si no se encuentran duplicados.\n",
    "    '''\n",
    "    # Se filtran las filas duplicadas\n",
    "    duplicated_rows = df[df.duplicated(subset=columna, keep=False)]\n",
    "    if duplicated_rows.empty:\n",
    "        return \"No hay duplicados\"\n",
    "    \n",
    "    # se ordenan las filas duplicadas para comparar entre sí\n",
    "    duplicated_rows_sorted = duplicated_rows.sort_values(by=columna)\n",
    "    return duplicated_rows_sorted"
   ]
  }
 ],
 "metadata": {
  "kernelspec": {
   "display_name": "Python 3",
   "language": "python",
   "name": "python3"
  },
  "language_info": {
   "codemirror_mode": {
    "name": "ipython",
    "version": 3
   },
   "file_extension": ".py",
   "mimetype": "text/x-python",
   "name": "python",
   "nbconvert_exporter": "python",
   "pygments_lexer": "ipython3",
   "version": "3.11.9"
  }
 },
 "nbformat": 4,
 "nbformat_minor": 2
}
