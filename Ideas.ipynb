{
 "cells": [
  {
   "cell_type": "markdown",
   "metadata": {},
   "source": [
    "MOSTRAR UN MAPA DEL HECHO PUNTUAL"
   ]
  },
  {
   "cell_type": "code",
   "execution_count": null,
   "metadata": {},
   "outputs": [],
   "source": [
    "import folium\n",
    "\n",
    "# Crear un mapa centrado en las coordenadas dadas [POS Y, POS X]\n",
    "mapa = folium.Map(location=[-34.65076549, -58.40623949], zoom_start=15)\n",
    "\n",
    "# Agregar un marcador en las coordenadas dadas\n",
    "folium.Marker(location=[-34.65076549, -58.40623949], popup='Siniestro Vial').add_to(mapa)\n",
    "\n",
    "# Mostrar el mapa\n",
    "mapa.save('mapa_siniestro.html')  # Guarda el mapa como archivo HTML\n",
    "mapa"
   ]
  }
 ],
 "metadata": {
  "language_info": {
   "name": "python"
  }
 },
 "nbformat": 4,
 "nbformat_minor": 2
}
